{
 "metadata": {
  "language_info": {
   "codemirror_mode": {
    "name": "ipython",
    "version": 3
   },
   "file_extension": ".py",
   "mimetype": "text/x-python",
   "name": "python",
   "nbconvert_exporter": "python",
   "pygments_lexer": "ipython3",
   "version": 3
  },
  "orig_nbformat": 4
 },
 "nbformat": 4,
 "nbformat_minor": 2,
 "cells": [
  {
   "source": [
    "## Logistic regression used for clasification problems\n"
   ],
   "cell_type": "markdown",
   "metadata": {}
  },
  {
   "source": [
    "Why Linear Regression is not useful for classification??\n",
    "\n",
    "Consider there is a example where we have to classify between 2 objects(0,1),Now linear regression uses line of best fit but if \n",
    "\n",
    "Now we take the values 0.1 - 0.49 as 0 (close to 0 ie., probability)\n",
    "else 1\n",
    "\n",
    "\n",
    "the x is more then the line of best fit will extend and gives the answer.And it can give answer greater than\n",
    "but we know that probability is always lies between 0 and 1\n",
    "\n",
    "So linear regression is not useful for classification problems\n",
    "\n",
    "\n",
    "\n"
   ],
   "cell_type": "markdown",
   "metadata": {}
  },
  {
   "source": [
    "Bounded function ,Sigmoid Function :\n",
    "\n",
    "y = (1 / ( e ** (-x) + 1)) lies between 0 and 1"
   ],
   "cell_type": "markdown",
   "metadata": {}
  },
  {
   "source": [
    "## Confusion Matrix\n"
   ],
   "cell_type": "markdown",
   "metadata": {}
  },
  {
   "source": [
    "It is used for classification problem \n",
    "\n",
    "Representing the actual Result and predicted result in a matrice is called Confusion matrice"
   ],
   "cell_type": "markdown",
   "metadata": {}
  },
  {
   "source": [
    "## Support Vector Machines"
   ],
   "cell_type": "markdown",
   "metadata": {}
  },
  {
   "source": [
    ">\n",
    "* It is the optmized version of Logistic Regression.\n",
    "* It also performs the problems on classification\n",
    "* It gives more accurate predictions than logic regression\n",
    "\n"
   ],
   "cell_type": "markdown",
   "metadata": {}
  },
  {
   "source": [
    "support vectors : Are the lines drawn parallel to the extremes of both class\n",
    "Hyperplane : higher dimensions are there means decision boundary is called as Hyperplane\n",
    " "
   ],
   "cell_type": "markdown",
   "metadata": {}
  },
  {
   "source": [
    "## Support Vector Kernal\n",
    "If it decision line is straight line then it is called as Linear Kernal\n",
    "\n",
    "Otherwise it is called non Linear Kernal"
   ],
   "cell_type": "markdown",
   "metadata": {}
  },
  {
   "cell_type": "code",
   "execution_count": null,
   "metadata": {},
   "outputs": [],
   "source": []
  }
 ]
}