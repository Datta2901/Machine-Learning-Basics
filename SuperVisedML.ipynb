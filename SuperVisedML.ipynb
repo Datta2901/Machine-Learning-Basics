{
 "metadata": {
  "language_info": {
   "codemirror_mode": {
    "name": "ipython",
    "version": 3
   },
   "file_extension": ".py",
   "mimetype": "text/x-python",
   "name": "python",
   "nbconvert_exporter": "python",
   "pygments_lexer": "ipython3",
   "version": 3
  },
  "orig_nbformat": 4
 },
 "nbformat": 4,
 "nbformat_minor": 2,
 "cells": [
  {
   "source": [
    "# Linear Regression"
   ],
   "cell_type": "markdown",
   "metadata": {}
  },
  {
   "source": [
    "Analysing the trend of the data points.And then trying to find the y value for a unknown x value (x is not in dataset provided)\n",
    "y = k x\n"
   ],
   "cell_type": "markdown",
   "metadata": {}
  },
  {
   "source": [
    "Simple Linear Regression : if we have one dependent variable and one explanatory varible(independent Varible)\n",
    "suppose \n",
    "    y = f(x)\n",
    "    y is dependent and x is explanatory or independent variable\n",
    "\n",
    "Multiple Linear Regression : \n",
    "    y = f(x1,x2,x3) \n",
    "    Multiple independent variables and a dependent variable"
   ],
   "cell_type": "markdown",
   "metadata": {}
  },
  {
   "source": [
    "Example is Salary_DataSet"
   ],
   "cell_type": "markdown",
   "metadata": {}
  }
 ]
}